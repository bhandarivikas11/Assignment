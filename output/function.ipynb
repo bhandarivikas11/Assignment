{
 "cells": [
  {
   "cell_type": "code",
   "execution_count": 1,
   "id": "b1ee1d65-731e-48c7-b0f2-bb8ebaa1f3c7",
   "metadata": {},
   "outputs": [
    {
     "ename": "TypeError",
     "evalue": "type() takes 1 or 3 arguments",
     "output_type": "error",
     "traceback": [
      "\u001b[0;31m---------------------------------------------------------------------------\u001b[0m",
      "\u001b[0;31mTypeError\u001b[0m                                 Traceback (most recent call last)",
      "Cell \u001b[0;32mIn[1], line 1\u001b[0m\n\u001b[0;32m----> 1\u001b[0m \u001b[38;5;28;43mtype\u001b[39;49m\u001b[43m(\u001b[49m\u001b[43m)\u001b[49m    \u001b[38;5;66;03m#def=  defination of function  #name of function (logic)\u001b[39;00m\n\u001b[1;32m      2\u001b[0m \u001b[38;5;28mprint\u001b[39m()\n\u001b[1;32m      3\u001b[0m \u001b[38;5;28mlen\u001b[39m()\n",
      "\u001b[0;31mTypeError\u001b[0m: type() takes 1 or 3 arguments"
     ]
    }
   ],
   "source": [
    "type()    #def=  defination of function  #name of function (logic)\n",
    "print()\n",
    "len()\n",
    "range()\n"
   ]
  },
  {
   "cell_type": "code",
   "execution_count": null,
   "id": "cb233e5d-d76e-4395-ace4-535276b1c906",
   "metadata": {},
   "outputs": [],
   "source": [
    "def test():\n",
    "    \n",
    "    print(\"this is my first function\")"
   ]
  },
  {
   "cell_type": "code",
   "execution_count": 2,
   "id": "3f505bbb-2a01-4e60-ae44-5fad28309769",
   "metadata": {},
   "outputs": [
    {
     "ename": "NameError",
     "evalue": "name 'test' is not defined",
     "output_type": "error",
     "traceback": [
      "\u001b[0;31m---------------------------------------------------------------------------\u001b[0m",
      "\u001b[0;31mNameError\u001b[0m                                 Traceback (most recent call last)",
      "Cell \u001b[0;32mIn[2], line 1\u001b[0m\n\u001b[0;32m----> 1\u001b[0m \u001b[43mtest\u001b[49m()\n",
      "\u001b[0;31mNameError\u001b[0m: name 'test' is not defined"
     ]
    }
   ],
   "source": [
    "test()"
   ]
  },
  {
   "cell_type": "code",
   "execution_count": 3,
   "id": "61457b7a-a36f-45e5-931f-9504c6c900dc",
   "metadata": {},
   "outputs": [
    {
     "ename": "NameError",
     "evalue": "name 'test' is not defined",
     "output_type": "error",
     "traceback": [
      "\u001b[0;31m---------------------------------------------------------------------------\u001b[0m",
      "\u001b[0;31mNameError\u001b[0m                                 Traceback (most recent call last)",
      "Cell \u001b[0;32mIn[3], line 1\u001b[0m\n\u001b[0;32m----> 1\u001b[0m \u001b[43mtest\u001b[49m() \u001b[38;5;241m+\u001b[39m \u001b[38;5;124m\"\u001b[39m\u001b[38;5;124mvikas\u001b[39m\u001b[38;5;124m\"\u001b[39m\n",
      "\u001b[0;31mNameError\u001b[0m: name 'test' is not defined"
     ]
    }
   ],
   "source": [
    "test() + \"vikas\""
   ]
  },
  {
   "cell_type": "code",
   "execution_count": 4,
   "id": "dcd4d756-f783-4e0d-bb23-a9a29e003bfd",
   "metadata": {},
   "outputs": [
    {
     "ename": "NameError",
     "evalue": "name 'test' is not defined",
     "output_type": "error",
     "traceback": [
      "\u001b[0;31m---------------------------------------------------------------------------\u001b[0m",
      "\u001b[0;31mNameError\u001b[0m                                 Traceback (most recent call last)",
      "Cell \u001b[0;32mIn[4], line 1\u001b[0m\n\u001b[0;32m----> 1\u001b[0m \u001b[38;5;28mtype\u001b[39m(\u001b[43mtest\u001b[49m())\n",
      "\u001b[0;31mNameError\u001b[0m: name 'test' is not defined"
     ]
    }
   ],
   "source": [
    "type(test())"
   ]
  },
  {
   "cell_type": "code",
   "execution_count": 5,
   "id": "e8ca6f4d-6419-4c00-9938-fe71699ada56",
   "metadata": {},
   "outputs": [],
   "source": [
    "def test2():\n",
    "    print(1+2)"
   ]
  },
  {
   "cell_type": "code",
   "execution_count": 6,
   "id": "360aceb7-b2fa-4bcc-946d-0dd107b50858",
   "metadata": {},
   "outputs": [
    {
     "name": "stdout",
     "output_type": "stream",
     "text": [
      "3\n"
     ]
    }
   ],
   "source": [
    "test2()"
   ]
  },
  {
   "cell_type": "code",
   "execution_count": 7,
   "id": "8447abe6-7164-4e8d-b470-1564fcdf2297",
   "metadata": {},
   "outputs": [
    {
     "name": "stdout",
     "output_type": "stream",
     "text": [
      "3\n"
     ]
    },
    {
     "ename": "TypeError",
     "evalue": "unsupported operand type(s) for +: 'NoneType' and 'int'",
     "output_type": "error",
     "traceback": [
      "\u001b[0;31m---------------------------------------------------------------------------\u001b[0m",
      "\u001b[0;31mTypeError\u001b[0m                                 Traceback (most recent call last)",
      "Cell \u001b[0;32mIn[7], line 1\u001b[0m\n\u001b[0;32m----> 1\u001b[0m \u001b[43mtest2\u001b[49m\u001b[43m(\u001b[49m\u001b[43m)\u001b[49m\u001b[43m \u001b[49m\u001b[38;5;241;43m+\u001b[39;49m\u001b[43m \u001b[49m\u001b[38;5;241;43m10\u001b[39;49m\n",
      "\u001b[0;31mTypeError\u001b[0m: unsupported operand type(s) for +: 'NoneType' and 'int'"
     ]
    }
   ],
   "source": [
    "test2() + 10"
   ]
  },
  {
   "cell_type": "code",
   "execution_count": 8,
   "id": "5f827181-38d6-4300-8f41-f3273a1636fc",
   "metadata": {},
   "outputs": [],
   "source": [
    "def test3():\n",
    "    return 1+2"
   ]
  },
  {
   "cell_type": "code",
   "execution_count": 9,
   "id": "0c40215e-e697-4353-88c9-99e802b36771",
   "metadata": {},
   "outputs": [
    {
     "data": {
      "text/plain": [
       "3"
      ]
     },
     "execution_count": 9,
     "metadata": {},
     "output_type": "execute_result"
    }
   ],
   "source": [
    "test3()"
   ]
  },
  {
   "cell_type": "code",
   "execution_count": 10,
   "id": "59ecfea6-f5e0-4e46-9722-a43437c0eec0",
   "metadata": {},
   "outputs": [
    {
     "data": {
      "text/plain": [
       "13"
      ]
     },
     "execution_count": 10,
     "metadata": {},
     "output_type": "execute_result"
    }
   ],
   "source": [
    "test3()+10"
   ]
  },
  {
   "cell_type": "code",
   "execution_count": 11,
   "id": "4818f8c0-1a91-44d1-8723-ddbf54dfc3e7",
   "metadata": {},
   "outputs": [
    {
     "data": {
      "text/plain": [
       "int"
      ]
     },
     "execution_count": 11,
     "metadata": {},
     "output_type": "execute_result"
    }
   ],
   "source": [
    "type(test3())"
   ]
  },
  {
   "cell_type": "code",
   "execution_count": 12,
   "id": "9bc4d48f-1fc8-4262-91c3-b8c893fe0bc2",
   "metadata": {},
   "outputs": [],
   "source": [
    "def test4():\n",
    "    \n",
    "    return 2,\"vik\",True,[1,2,3]"
   ]
  },
  {
   "cell_type": "code",
   "execution_count": 13,
   "id": "ee822eac-293d-4fd8-bf03-d9c83eb788de",
   "metadata": {},
   "outputs": [
    {
     "data": {
      "text/plain": [
       "(2, 'vik', True, [1, 2, 3])"
      ]
     },
     "execution_count": 13,
     "metadata": {},
     "output_type": "execute_result"
    }
   ],
   "source": [
    "test4()"
   ]
  },
  {
   "cell_type": "code",
   "execution_count": 14,
   "id": "4d094df2-91e5-445c-97cf-8626189114d7",
   "metadata": {},
   "outputs": [],
   "source": [
    "a,b,c,d =  2,\"vik\",True,[1,2,3]"
   ]
  },
  {
   "cell_type": "code",
   "execution_count": 15,
   "id": "1f0aa5a3-ed12-431d-a349-82cecc63d00e",
   "metadata": {},
   "outputs": [
    {
     "data": {
      "text/plain": [
       "tuple"
      ]
     },
     "execution_count": 15,
     "metadata": {},
     "output_type": "execute_result"
    }
   ],
   "source": [
    "type(test4())"
   ]
  },
  {
   "cell_type": "code",
   "execution_count": 16,
   "id": "f1ade78d-d9cc-4a8a-bc5c-a923b9dcb191",
   "metadata": {},
   "outputs": [],
   "source": [
    "m,n,o,p = test4()"
   ]
  },
  {
   "cell_type": "code",
   "execution_count": 17,
   "id": "f12f88ce-7d52-4032-9606-6c765cc315f7",
   "metadata": {},
   "outputs": [
    {
     "data": {
      "text/plain": [
       "2"
      ]
     },
     "execution_count": 17,
     "metadata": {},
     "output_type": "execute_result"
    }
   ],
   "source": [
    "m"
   ]
  },
  {
   "cell_type": "code",
   "execution_count": 18,
   "id": "af9edce7-1248-4bd2-adc9-35ce1fe24ff8",
   "metadata": {},
   "outputs": [
    {
     "data": {
      "text/plain": [
       "True"
      ]
     },
     "execution_count": 18,
     "metadata": {},
     "output_type": "execute_result"
    }
   ],
   "source": [
    "o"
   ]
  },
  {
   "cell_type": "code",
   "execution_count": 19,
   "id": "59aceece-a003-439e-a107-6f9b4cfb14b9",
   "metadata": {},
   "outputs": [],
   "source": [
    "def test5(x):\n",
    "    return x\n"
   ]
  },
  {
   "cell_type": "code",
   "execution_count": 20,
   "id": "1f3d474f-c8a4-488a-9c0d-fbbcaa91b530",
   "metadata": {},
   "outputs": [
    {
     "data": {
      "text/plain": [
       "5"
      ]
     },
     "execution_count": 20,
     "metadata": {},
     "output_type": "execute_result"
    }
   ],
   "source": [
    "test5(5)"
   ]
  },
  {
   "cell_type": "code",
   "execution_count": 21,
   "id": "d9b76bf8-8ea1-450f-841f-827cbfe2bb28",
   "metadata": {},
   "outputs": [
    {
     "data": {
      "text/plain": [
       "[1, 2, 3, 4]"
      ]
     },
     "execution_count": 21,
     "metadata": {},
     "output_type": "execute_result"
    }
   ],
   "source": [
    "test5([1,2,3,4])"
   ]
  },
  {
   "cell_type": "code",
   "execution_count": 22,
   "id": "ae2ccdf6-98da-4ece-b11f-50e20b85962e",
   "metadata": {},
   "outputs": [
    {
     "ename": "TypeError",
     "evalue": "test5() takes 1 positional argument but 2 were given",
     "output_type": "error",
     "traceback": [
      "\u001b[0;31m---------------------------------------------------------------------------\u001b[0m",
      "\u001b[0;31mTypeError\u001b[0m                                 Traceback (most recent call last)",
      "Cell \u001b[0;32mIn[22], line 1\u001b[0m\n\u001b[0;32m----> 1\u001b[0m \u001b[43mtest5\u001b[49m\u001b[43m(\u001b[49m\u001b[38;5;241;43m4\u001b[39;49m\u001b[43m,\u001b[49m\u001b[38;5;124;43m\"\u001b[39;49m\u001b[38;5;124;43mf\u001b[39;49m\u001b[38;5;124;43m\"\u001b[39;49m\u001b[43m)\u001b[49m\n",
      "\u001b[0;31mTypeError\u001b[0m: test5() takes 1 positional argument but 2 were given"
     ]
    }
   ],
   "source": [
    "test5(4,\"f\")"
   ]
  },
  {
   "cell_type": "code",
   "execution_count": 23,
   "id": "88d8867d-96f1-42f0-8c14-62f8271fde74",
   "metadata": {},
   "outputs": [
    {
     "ename": "TypeError",
     "evalue": "test5() missing 1 required positional argument: 'x'",
     "output_type": "error",
     "traceback": [
      "\u001b[0;31m---------------------------------------------------------------------------\u001b[0m",
      "\u001b[0;31mTypeError\u001b[0m                                 Traceback (most recent call last)",
      "Cell \u001b[0;32mIn[23], line 1\u001b[0m\n\u001b[0;32m----> 1\u001b[0m \u001b[43mtest5\u001b[49m\u001b[43m(\u001b[49m\u001b[43m)\u001b[49m\n",
      "\u001b[0;31mTypeError\u001b[0m: test5() missing 1 required positional argument: 'x'"
     ]
    }
   ],
   "source": [
    "test5()"
   ]
  },
  {
   "cell_type": "code",
   "execution_count": 24,
   "id": "b7c438ce-f815-4c63-8f3a-03686f96cc8e",
   "metadata": {},
   "outputs": [],
   "source": [
    "def test6(x,y):\n",
    "    return x,y"
   ]
  },
  {
   "cell_type": "code",
   "execution_count": 25,
   "id": "32cbe3c1-6a55-4e41-8cc3-4f40707c5e9c",
   "metadata": {},
   "outputs": [
    {
     "data": {
      "text/plain": [
       "(1, 2)"
      ]
     },
     "execution_count": 25,
     "metadata": {},
     "output_type": "execute_result"
    }
   ],
   "source": [
    "test6(1,2)"
   ]
  },
  {
   "cell_type": "code",
   "execution_count": 26,
   "id": "1a7afa77-d269-49fc-bbee-271fb2716451",
   "metadata": {},
   "outputs": [
    {
     "data": {
      "text/plain": [
       "(1, [2, 2, 2])"
      ]
     },
     "execution_count": 26,
     "metadata": {},
     "output_type": "execute_result"
    }
   ],
   "source": [
    "test6(1,[2,2,2])"
   ]
  },
  {
   "cell_type": "code",
   "execution_count": 27,
   "id": "78a4c3d5-c49e-4c4a-8b7b-8f7daeae3d25",
   "metadata": {},
   "outputs": [],
   "source": [
    "def test7(a:int,b:int):\n",
    "    return a,b"
   ]
  },
  {
   "cell_type": "code",
   "execution_count": 28,
   "id": "f0882cfc-6791-4a3b-bb9c-eff0fa0bb1af",
   "metadata": {},
   "outputs": [
    {
     "data": {
      "text/plain": [
       "(4, 7)"
      ]
     },
     "execution_count": 28,
     "metadata": {},
     "output_type": "execute_result"
    }
   ],
   "source": [
    "test7(4,7)"
   ]
  },
  {
   "cell_type": "code",
   "execution_count": 29,
   "id": "722b1c9b-7f9f-4319-822c-348645ae8df8",
   "metadata": {},
   "outputs": [
    {
     "data": {
      "text/plain": [
       "('a', 'sa')"
      ]
     },
     "execution_count": 29,
     "metadata": {},
     "output_type": "execute_result"
    }
   ],
   "source": [
    "test7('a','sa')"
   ]
  },
  {
   "cell_type": "code",
   "execution_count": 30,
   "id": "caa542dc-cd8e-471f-9160-ee838ad170be",
   "metadata": {},
   "outputs": [],
   "source": [
    "def test8(a:int,b:int): #notify user\n",
    "    return a/b"
   ]
  },
  {
   "cell_type": "code",
   "execution_count": 31,
   "id": "d014b1a8-a32a-4d71-b6da-23f854b4bfc6",
   "metadata": {},
   "outputs": [
    {
     "ename": "TypeError",
     "evalue": "unsupported operand type(s) for /: 'str' and 'int'",
     "output_type": "error",
     "traceback": [
      "\u001b[0;31m---------------------------------------------------------------------------\u001b[0m",
      "\u001b[0;31mTypeError\u001b[0m                                 Traceback (most recent call last)",
      "Cell \u001b[0;32mIn[31], line 1\u001b[0m\n\u001b[0;32m----> 1\u001b[0m \u001b[43mtest8\u001b[49m\u001b[43m(\u001b[49m\u001b[38;5;124;43m\"\u001b[39;49m\u001b[38;5;124;43ma\u001b[39;49m\u001b[38;5;124;43m\"\u001b[39;49m\u001b[43m,\u001b[49m\u001b[38;5;241;43m2\u001b[39;49m\u001b[43m)\u001b[49m\n",
      "Cell \u001b[0;32mIn[30], line 2\u001b[0m, in \u001b[0;36mtest8\u001b[0;34m(a, b)\u001b[0m\n\u001b[1;32m      1\u001b[0m \u001b[38;5;28;01mdef\u001b[39;00m \u001b[38;5;21mtest8\u001b[39m(a:\u001b[38;5;28mint\u001b[39m,b:\u001b[38;5;28mint\u001b[39m): \u001b[38;5;66;03m#notify user\u001b[39;00m\n\u001b[0;32m----> 2\u001b[0m     \u001b[38;5;28;01mreturn\u001b[39;00m \u001b[43ma\u001b[49m\u001b[38;5;241;43m/\u001b[39;49m\u001b[43mb\u001b[49m\n",
      "\u001b[0;31mTypeError\u001b[0m: unsupported operand type(s) for /: 'str' and 'int'"
     ]
    }
   ],
   "source": [
    "test8(\"a\",2)"
   ]
  },
  {
   "cell_type": "code",
   "execution_count": 32,
   "id": "6bc0efda-f3f3-4bde-b101-362385f65f54",
   "metadata": {},
   "outputs": [],
   "source": [
    "def test9(c,d): #docstring\n",
    "    \"\"\"this is my functioon which can take two input and return a  addition or concatination\n",
    "    \"\"\"\n",
    "    return c+d"
   ]
  },
  {
   "cell_type": "code",
   "execution_count": 33,
   "id": "803fff64-9c58-4887-bba0-2bd37de85c86",
   "metadata": {},
   "outputs": [
    {
     "data": {
      "text/plain": [
       "9"
      ]
     },
     "execution_count": 33,
     "metadata": {},
     "output_type": "execute_result"
    }
   ],
   "source": [
    "test9(4,5)"
   ]
  },
  {
   "cell_type": "code",
   "execution_count": 34,
   "id": "f2cc56ba-d7fd-41db-ac38-11c2acbb7b1e",
   "metadata": {},
   "outputs": [],
   "source": [
    "def test10(*args):\n",
    "    return args"
   ]
  },
  {
   "cell_type": "code",
   "execution_count": 35,
   "id": "3606cb75-8bd9-4893-859a-9173375de446",
   "metadata": {},
   "outputs": [
    {
     "data": {
      "text/plain": [
       "()"
      ]
     },
     "execution_count": 35,
     "metadata": {},
     "output_type": "execute_result"
    }
   ],
   "source": [
    "test10()"
   ]
  },
  {
   "cell_type": "code",
   "execution_count": 36,
   "id": "154ef8b6-92be-4827-9919-241d6ad9cd58",
   "metadata": {},
   "outputs": [
    {
     "data": {
      "text/plain": [
       "(1.2, 1, 2, 'k')"
      ]
     },
     "execution_count": 36,
     "metadata": {},
     "output_type": "execute_result"
    }
   ],
   "source": [
    "test10(1.2,1,2,'k')"
   ]
  },
  {
   "cell_type": "code",
   "execution_count": 37,
   "id": "2b1e4654-3daf-4659-b820-a8d652739d5f",
   "metadata": {},
   "outputs": [],
   "source": [
    "def test11(*vik ):\n",
    "    return vik"
   ]
  },
  {
   "cell_type": "code",
   "execution_count": 38,
   "id": "71c8164c-b491-4169-86be-2a6ac845aad9",
   "metadata": {},
   "outputs": [
    {
     "data": {
      "text/plain": [
       "(1, 2, 3, 4)"
      ]
     },
     "execution_count": 38,
     "metadata": {},
     "output_type": "execute_result"
    }
   ],
   "source": [
    "test11(1,2,3,4)"
   ]
  },
  {
   "cell_type": "code",
   "execution_count": 39,
   "id": "bc390abf-605a-40c9-a4cc-2e0bb5fef893",
   "metadata": {},
   "outputs": [],
   "source": [
    "def test12(**kwargs):\n",
    "    return kwargs"
   ]
  },
  {
   "cell_type": "code",
   "execution_count": 40,
   "id": "048876b0-ce77-4704-bf32-ffe886499e02",
   "metadata": {},
   "outputs": [
    {
     "data": {
      "text/plain": [
       "{'a': 2, 'b': 3, 'd': 45}"
      ]
     },
     "execution_count": 40,
     "metadata": {},
     "output_type": "execute_result"
    }
   ],
   "source": [
    "test12(a=2,b=3,d=45)"
   ]
  },
  {
   "cell_type": "code",
   "execution_count": 41,
   "id": "5152bb56-e109-41cf-8056-897d82e255fa",
   "metadata": {},
   "outputs": [
    {
     "data": {
      "text/plain": [
       "{'n': {'a': 2, 'b': 3, 'd': 45}}"
      ]
     },
     "execution_count": 41,
     "metadata": {},
     "output_type": "execute_result"
    }
   ],
   "source": [
    "test12(n = {'a':2,'b':3,'d':45})"
   ]
  },
  {
   "cell_type": "code",
   "execution_count": 42,
   "id": "ecfdf53b-1784-40af-93d4-5444050498bb",
   "metadata": {},
   "outputs": [],
   "source": [
    "def test13(a,b=3,c=45):\n",
    "    return a,b,c"
   ]
  },
  {
   "cell_type": "code",
   "execution_count": 43,
   "id": "592bd51a-862c-4eca-9058-a1276c420d5d",
   "metadata": {},
   "outputs": [
    {
     "data": {
      "text/plain": [
       "(12, 3, 45)"
      ]
     },
     "execution_count": 43,
     "metadata": {},
     "output_type": "execute_result"
    }
   ],
   "source": [
    "test13(12)"
   ]
  },
  {
   "cell_type": "code",
   "execution_count": 44,
   "id": "e8073b04-df51-4c81-a8e5-732ddf53bb43",
   "metadata": {},
   "outputs": [
    {
     "data": {
      "text/plain": [
       "(9, 3, 45)"
      ]
     },
     "execution_count": 44,
     "metadata": {},
     "output_type": "execute_result"
    }
   ],
   "source": [
    "test13(a=9)"
   ]
  },
  {
   "cell_type": "code",
   "execution_count": 45,
   "id": "d1f4d561-601a-4867-b1bf-dc0540fe2223",
   "metadata": {},
   "outputs": [],
   "source": [
    "v=test13(4,5,6)"
   ]
  },
  {
   "cell_type": "code",
   "execution_count": 46,
   "id": "429fb356-4214-4888-9dd8-b3be81bd9399",
   "metadata": {},
   "outputs": [
    {
     "data": {
      "text/plain": [
       "(4, 5, 6)"
      ]
     },
     "execution_count": 46,
     "metadata": {},
     "output_type": "execute_result"
    }
   ],
   "source": [
    "v"
   ]
  },
  {
   "cell_type": "code",
   "execution_count": 47,
   "id": "248afc13-b628-4988-a8a2-3d9d5c5b4399",
   "metadata": {},
   "outputs": [],
   "source": [
    "def test14(a,b):\n",
    "    return a+b"
   ]
  },
  {
   "cell_type": "code",
   "execution_count": 48,
   "id": "abeffbcb-afb9-4515-a39f-d9b728c27331",
   "metadata": {},
   "outputs": [
    {
     "data": {
      "text/plain": [
       "11"
      ]
     },
     "execution_count": 48,
     "metadata": {},
     "output_type": "execute_result"
    }
   ],
   "source": [
    "test14(5,6)"
   ]
  },
  {
   "cell_type": "code",
   "execution_count": 49,
   "id": "fcdc3739-0a18-48bd-acf8-73c6d812d421",
   "metadata": {},
   "outputs": [],
   "source": [
    "m=lambda a,b : a+b"
   ]
  },
  {
   "cell_type": "code",
   "execution_count": 50,
   "id": "1412b96e-f348-444f-b373-fccc497edd42",
   "metadata": {},
   "outputs": [
    {
     "data": {
      "text/plain": [
       "<function __main__.<lambda>(a, b)>"
      ]
     },
     "execution_count": 50,
     "metadata": {},
     "output_type": "execute_result"
    }
   ],
   "source": [
    "m"
   ]
  },
  {
   "cell_type": "code",
   "execution_count": 51,
   "id": "4ac6a305-05b6-4be3-840e-46ba6f300627",
   "metadata": {},
   "outputs": [
    {
     "data": {
      "text/plain": [
       "7"
      ]
     },
     "execution_count": 51,
     "metadata": {},
     "output_type": "execute_result"
    }
   ],
   "source": [
    "m(3,4)"
   ]
  },
  {
   "cell_type": "code",
   "execution_count": 52,
   "id": "c2c12141-326c-4aa8-8a43-aa8bd24ec5d7",
   "metadata": {},
   "outputs": [],
   "source": [
    "def check_even(n):\n",
    "    if n%2==0:\n",
    "        return \"given number is even number\"\n",
    "    else:\n",
    "        return \"given number  not a even number\""
   ]
  },
  {
   "cell_type": "code",
   "execution_count": 53,
   "id": "db6bb652-2f6d-48ea-9d76-32d3924f0e7f",
   "metadata": {},
   "outputs": [
    {
     "data": {
      "text/plain": [
       "'given number  not a even number'"
      ]
     },
     "execution_count": 53,
     "metadata": {},
     "output_type": "execute_result"
    }
   ],
   "source": [
    "check_even(3)"
   ]
  },
  {
   "cell_type": "code",
   "execution_count": 54,
   "id": "fbe942fb-50af-494e-a306-81537cbe152e",
   "metadata": {},
   "outputs": [
    {
     "data": {
      "text/plain": [
       "'given number is even number'"
      ]
     },
     "execution_count": 54,
     "metadata": {},
     "output_type": "execute_result"
    }
   ],
   "source": [
    "check_even(4)"
   ]
  },
  {
   "cell_type": "code",
   "execution_count": 55,
   "id": "179dd5a6-1407-4352-8fbb-7a8fb353d1b1",
   "metadata": {},
   "outputs": [],
   "source": [
    "v= lambda n : \"given number is even number\" if n%2==0 else \"given number  not a even number\""
   ]
  },
  {
   "cell_type": "code",
   "execution_count": 56,
   "id": "ab50b8b1-8f62-4752-9f47-c5a2aa039b1f",
   "metadata": {},
   "outputs": [
    {
     "data": {
      "text/plain": [
       "'given number is even number'"
      ]
     },
     "execution_count": 56,
     "metadata": {},
     "output_type": "execute_result"
    }
   ],
   "source": [
    "v(2)"
   ]
  },
  {
   "cell_type": "code",
   "execution_count": 57,
   "id": "e499bef5-83fc-440a-bc19-ea3c65732931",
   "metadata": {},
   "outputs": [],
   "source": [
    "l = [1,2,4,5,6,7,5,8]\n",
    "min_list = lambda li : min(li)"
   ]
  },
  {
   "cell_type": "code",
   "execution_count": 58,
   "id": "a9bee413-3f49-4cc8-9eec-d1b24dcc9990",
   "metadata": {},
   "outputs": [
    {
     "ename": "TypeError",
     "evalue": "'int' object is not iterable",
     "output_type": "error",
     "traceback": [
      "\u001b[0;31m---------------------------------------------------------------------------\u001b[0m",
      "\u001b[0;31mTypeError\u001b[0m                                 Traceback (most recent call last)",
      "Cell \u001b[0;32mIn[58], line 1\u001b[0m\n\u001b[0;32m----> 1\u001b[0m \u001b[43mmin_list\u001b[49m\u001b[43m(\u001b[49m\u001b[38;5;241;43m5\u001b[39;49m\u001b[43m)\u001b[49m\n",
      "Cell \u001b[0;32mIn[57], line 2\u001b[0m, in \u001b[0;36m<lambda>\u001b[0;34m(li)\u001b[0m\n\u001b[1;32m      1\u001b[0m l \u001b[38;5;241m=\u001b[39m [\u001b[38;5;241m1\u001b[39m,\u001b[38;5;241m2\u001b[39m,\u001b[38;5;241m4\u001b[39m,\u001b[38;5;241m5\u001b[39m,\u001b[38;5;241m6\u001b[39m,\u001b[38;5;241m7\u001b[39m,\u001b[38;5;241m5\u001b[39m,\u001b[38;5;241m8\u001b[39m]\n\u001b[0;32m----> 2\u001b[0m min_list \u001b[38;5;241m=\u001b[39m \u001b[38;5;28;01mlambda\u001b[39;00m li : \u001b[38;5;28;43mmin\u001b[39;49m\u001b[43m(\u001b[49m\u001b[43mli\u001b[49m\u001b[43m)\u001b[49m\n",
      "\u001b[0;31mTypeError\u001b[0m: 'int' object is not iterable"
     ]
    }
   ],
   "source": [
    "min_list(5)"
   ]
  },
  {
   "cell_type": "code",
   "execution_count": null,
   "id": "9ba3ff86-0eb3-420b-ba98-371d3ef869e2",
   "metadata": {},
   "outputs": [],
   "source": [
    "div = lambda a,b : a/b"
   ]
  },
  {
   "cell_type": "code",
   "execution_count": 59,
   "id": "735f2e99-e1e4-4ace-af2f-3c4a3e8f0511",
   "metadata": {},
   "outputs": [
    {
     "ename": "NameError",
     "evalue": "name 'div' is not defined",
     "output_type": "error",
     "traceback": [
      "\u001b[0;31m---------------------------------------------------------------------------\u001b[0m",
      "\u001b[0;31mNameError\u001b[0m                                 Traceback (most recent call last)",
      "Cell \u001b[0;32mIn[59], line 1\u001b[0m\n\u001b[0;32m----> 1\u001b[0m \u001b[43mdiv\u001b[49m(\u001b[38;5;241m4\u001b[39m,\u001b[38;5;241m5\u001b[39m)\n",
      "\u001b[0;31mNameError\u001b[0m: name 'div' is not defined"
     ]
    }
   ],
   "source": [
    "div(4,5)"
   ]
  },
  {
   "cell_type": "code",
   "execution_count": null,
   "id": "80501817-4e41-407f-a019-eda2bebf46c4",
   "metadata": {},
   "outputs": [],
   "source": [
    "upper = lambda s: s.upper()"
   ]
  },
  {
   "cell_type": "code",
   "execution_count": null,
   "id": "78b279fe-a998-4628-9562-c49fa966b709",
   "metadata": {},
   "outputs": [],
   "source": [
    "upper(\"vikas\")"
   ]
  },
  {
   "cell_type": "code",
   "execution_count": null,
   "id": "348fe8fd-7cc2-4358-83ea-ccc5953ac928",
   "metadata": {},
   "outputs": [],
   "source": [
    "def to_uppercase(s):\n",
    "    return s.upper()"
   ]
  },
  {
   "cell_type": "code",
   "execution_count": null,
   "id": "c81d054c-6d8e-4cc3-be9f-ee0959bdbad9",
   "metadata": {},
   "outputs": [],
   "source": [
    "to_uppercase('vv')"
   ]
  },
  {
   "cell_type": "code",
   "execution_count": null,
   "id": "a9f0e310-5006-4026-8f62-08992612957a",
   "metadata": {},
   "outputs": [],
   "source": [
    "l = [12,2,3,45,66,78]\n",
    "def sum_odd(b):\n",
    "    l1=[]\n",
    "    for i in b:\n",
    "        i%2!=0:\n",
    "            l1.append(i)\n",
    "    return sum(l1)        "
   ]
  },
  {
   "cell_type": "code",
   "execution_count": null,
   "id": "d49c6fbf-818f-454c-ba37-94b8b87d1df2",
   "metadata": {},
   "outputs": [],
   "source": [
    "l = [12, 2, 3, 45, 66, 78]\n",
    "\n",
    "def sum_odd(b):\n",
    "    l1 = []\n",
    "    for i in b:\n",
    "        if i % 2 != 0:\n",
    "            l1.append(i)\n",
    "    return sum(l1)\n",
    "\n",
    "result = sum_odd(l)\n",
    "print(result)\n"
   ]
  },
  {
   "cell_type": "code",
   "execution_count": 60,
   "id": "2311398b-1044-4bc6-8c28-257d2e4c3e4f",
   "metadata": {},
   "outputs": [
    {
     "data": {
      "text/plain": [
       "[1, 5, 7, 5]"
      ]
     },
     "execution_count": 60,
     "metadata": {},
     "output_type": "execute_result"
    }
   ],
   "source": [
    "[i for i in l if i %2  != 0]"
   ]
  },
  {
   "cell_type": "code",
   "execution_count": 61,
   "id": "017fd3da-fa5a-4fca-ac2a-f27307b3ed6e",
   "metadata": {},
   "outputs": [
    {
     "ename": "NameError",
     "evalue": "name 'sum_odd' is not defined",
     "output_type": "error",
     "traceback": [
      "\u001b[0;31m---------------------------------------------------------------------------\u001b[0m",
      "\u001b[0;31mNameError\u001b[0m                                 Traceback (most recent call last)",
      "Cell \u001b[0;32mIn[61], line 1\u001b[0m\n\u001b[0;32m----> 1\u001b[0m \u001b[43msum_odd\u001b[49m(l)\n",
      "\u001b[0;31mNameError\u001b[0m: name 'sum_odd' is not defined"
     ]
    }
   ],
   "source": [
    "sum_odd(l)"
   ]
  },
  {
   "cell_type": "code",
   "execution_count": 62,
   "id": "3bfdb68f-9c49-4edb-ad93-80411599e27c",
   "metadata": {},
   "outputs": [
    {
     "ename": "SyntaxError",
     "evalue": "invalid syntax (755022549.py, line 1)",
     "output_type": "error",
     "traceback": [
      "\u001b[0;36m  Cell \u001b[0;32mIn[62], line 1\u001b[0;36m\u001b[0m\n\u001b[0;31m    sum=  lambda b: sum([i for in b if i%2!=0])\u001b[0m\n\u001b[0m                               ^\u001b[0m\n\u001b[0;31mSyntaxError\u001b[0m\u001b[0;31m:\u001b[0m invalid syntax\n"
     ]
    }
   ],
   "source": [
    "sum=  lambda b: sum([i for in b if i%2!=0])"
   ]
  },
  {
   "cell_type": "code",
   "execution_count": 63,
   "id": "dd93be9e-2d34-49c4-b25d-bdb590a8a6cd",
   "metadata": {},
   "outputs": [
    {
     "ename": "SyntaxError",
     "evalue": "invalid syntax (755022549.py, line 1)",
     "output_type": "error",
     "traceback": [
      "\u001b[0;36m  Cell \u001b[0;32mIn[63], line 1\u001b[0;36m\u001b[0m\n\u001b[0;31m    sum=  lambda b: sum([i for in b if i%2!=0])\u001b[0m\n\u001b[0m                               ^\u001b[0m\n\u001b[0;31mSyntaxError\u001b[0m\u001b[0;31m:\u001b[0m invalid syntax\n"
     ]
    }
   ],
   "source": [
    "sum=  lambda b: sum([i for in b if i%2!=0])"
   ]
  },
  {
   "cell_type": "code",
   "execution_count": 64,
   "id": "7ce36f55-1c58-4dc8-9191-f2b6d38e7e47",
   "metadata": {},
   "outputs": [
    {
     "name": "stdout",
     "output_type": "stream",
     "text": [
      "48\n"
     ]
    }
   ],
   "source": [
    "l = [12, 2, 3, 45, 66, 78]\n",
    "sum_odd = lambda b: sum([i for i in b if i % 2 != 0])\n",
    "result = sum_odd(l)\n",
    "print(result)\n"
   ]
  },
  {
   "cell_type": "code",
   "execution_count": 65,
   "id": "3e67f88b-1a8f-49d2-aca3-5ca745da3a50",
   "metadata": {},
   "outputs": [],
   "source": [
    "def fact_num(n):\n",
    "    if n == 0:\n",
    "        return 1\n",
    "    else:\n",
    "        return n * fact_num(n-1)\n"
   ]
  },
  {
   "cell_type": "code",
   "execution_count": 66,
   "id": "c96a9c22-db9f-4dfa-89f4-b5e3838b704e",
   "metadata": {},
   "outputs": [
    {
     "data": {
      "text/plain": [
       "24"
      ]
     },
     "execution_count": 66,
     "metadata": {},
     "output_type": "execute_result"
    }
   ],
   "source": [
    "fact_num(4)"
   ]
  },
  {
   "cell_type": "code",
   "execution_count": 67,
   "id": "d043df77-11ad-4ae9-bc2c-eaaf7c82824c",
   "metadata": {},
   "outputs": [
    {
     "data": {
      "text/plain": [
       "1"
      ]
     },
     "execution_count": 67,
     "metadata": {},
     "output_type": "execute_result"
    }
   ],
   "source": [
    "fact_num(0)"
   ]
  },
  {
   "cell_type": "code",
   "execution_count": 68,
   "id": "d42384b0-88e0-4985-a713-ee0037482e5c",
   "metadata": {},
   "outputs": [],
   "source": [
    "def fact_num(n):\n",
    "    a=1\n",
    "    for i in range(1,n+1):\n",
    "        a =  i * a\n",
    "    return a"
   ]
  },
  {
   "cell_type": "code",
   "execution_count": 69,
   "id": "fb9941a7-06af-46c8-82e5-82a8db59325d",
   "metadata": {},
   "outputs": [
    {
     "data": {
      "text/plain": [
       "2"
      ]
     },
     "execution_count": 69,
     "metadata": {},
     "output_type": "execute_result"
    }
   ],
   "source": [
    "fact_num(2)"
   ]
  },
  {
   "cell_type": "code",
   "execution_count": 70,
   "id": "f11856e5-d74e-49af-9c5e-896368adcffa",
   "metadata": {},
   "outputs": [
    {
     "data": {
      "text/plain": [
       "24"
      ]
     },
     "execution_count": 70,
     "metadata": {},
     "output_type": "execute_result"
    }
   ],
   "source": [
    "fact_num(4) "
   ]
  },
  {
   "cell_type": "code",
   "execution_count": 71,
   "id": "c30a37d6-96b0-466f-af2d-67aba6d9fdb3",
   "metadata": {},
   "outputs": [],
   "source": [
    "fact_num_lam= lambda n : 1 if n==0 else n* fact_num_lam(n-1)"
   ]
  },
  {
   "cell_type": "code",
   "execution_count": 72,
   "id": "7deeb61d-220a-4f0e-a071-308c25c1c122",
   "metadata": {},
   "outputs": [
    {
     "data": {
      "text/plain": [
       "24"
      ]
     },
     "execution_count": 72,
     "metadata": {},
     "output_type": "execute_result"
    }
   ],
   "source": [
    "fact_num_lam(4)"
   ]
  },
  {
   "cell_type": "code",
   "execution_count": null,
   "id": "21d8a9e3-6f17-47e5-8b79-fa62633443a7",
   "metadata": {},
   "outputs": [],
   "source": [
    "l=  [5,6,7,8]\n",
    "\n",
    "l1=[]\n",
    "for i in l:\n",
    "    l.append(i+2)"
   ]
  },
  {
   "cell_type": "code",
   "execution_count": null,
   "id": "5ba1b74a-3d11-43eb-8d68-67182cec6498",
   "metadata": {},
   "outputs": [],
   "source": [
    "l1"
   ]
  },
  {
   "cell_type": "code",
   "execution_count": 2,
   "id": "e872067f-a512-4cf2-a284-1f43d47fadfe",
   "metadata": {},
   "outputs": [],
   "source": [
    "a = 20"
   ]
  },
  {
   "cell_type": "code",
   "execution_count": 3,
   "id": "8d8cbedc-b476-4514-9538-e9a893258e2f",
   "metadata": {},
   "outputs": [
    {
     "data": {
      "text/plain": [
       "20"
      ]
     },
     "execution_count": 3,
     "metadata": {},
     "output_type": "execute_result"
    }
   ],
   "source": [
    "a"
   ]
  },
  {
   "cell_type": "code",
   "execution_count": null,
   "id": "4c5a60d9-e46c-4ab3-b2c8-d10080800aa0",
   "metadata": {},
   "outputs": [],
   "source": [
    "l=  [5,6,7,8]\n",
    "\n",
    "l1=[]\n",
    "for i in l:\n",
    "    l.append(i+2)"
   ]
  },
  {
   "cell_type": "code",
   "execution_count": 1,
   "id": "dd2e2a5d-cc5b-4bd7-b9dd-a43eab0ecc99",
   "metadata": {},
   "outputs": [],
   "source": [
    "a  = 20"
   ]
  },
  {
   "cell_type": "code",
   "execution_count": 2,
   "id": "793d9e75-f1cf-48ce-9707-c529dc5522ad",
   "metadata": {},
   "outputs": [
    {
     "data": {
      "text/plain": [
       "20"
      ]
     },
     "execution_count": 2,
     "metadata": {},
     "output_type": "execute_result"
    }
   ],
   "source": [
    "a"
   ]
  },
  {
   "cell_type": "code",
   "execution_count": 18,
   "id": "57f71db2-8879-445f-97e3-141314978a07",
   "metadata": {},
   "outputs": [],
   "source": [
    "l=[1,2,3,4]\n",
    "def add_list(b):\n",
    "    l1=[]\n",
    "    for i in b:\n",
    "        l1.append(i+2)\n",
    "    return l1    "
   ]
  },
  {
   "cell_type": "code",
   "execution_count": 19,
   "id": "65d413e9-4680-4894-ba42-858bb05d57c9",
   "metadata": {},
   "outputs": [
    {
     "data": {
      "text/plain": [
       "[3, 4, 5, 6]"
      ]
     },
     "execution_count": 19,
     "metadata": {},
     "output_type": "execute_result"
    }
   ],
   "source": [
    "add_list(l)"
   ]
  },
  {
   "cell_type": "code",
   "execution_count": 20,
   "id": "3607f4ea-4967-4657-9ec2-03028e4d1414",
   "metadata": {},
   "outputs": [],
   "source": [
    "v = lambda a : a+2"
   ]
  },
  {
   "cell_type": "code",
   "execution_count": 21,
   "id": "f10a3799-d85b-4a2a-a48f-c6ae5e00f593",
   "metadata": {},
   "outputs": [
    {
     "data": {
      "text/plain": [
       "12"
      ]
     },
     "execution_count": 21,
     "metadata": {},
     "output_type": "execute_result"
    }
   ],
   "source": [
    "v(10)"
   ]
  },
  {
   "cell_type": "code",
   "execution_count": 31,
   "id": "42a0ccb3-4c75-48ce-a4cf-2bb8e6e8069a",
   "metadata": {},
   "outputs": [
    {
     "data": {
      "text/plain": [
       "[3, 4, 5, 6]"
      ]
     },
     "execution_count": 31,
     "metadata": {},
     "output_type": "execute_result"
    }
   ],
   "source": [
    "l=[1,2,3,4]\n",
    "list(map( lambda a : a+2,l))"
   ]
  },
  {
   "cell_type": "code",
   "execution_count": 30,
   "id": "925f6dd3-a276-4bb0-872c-e921b448ceb9",
   "metadata": {},
   "outputs": [
    {
     "data": {
      "text/plain": [
       "[3, 4, 5, 6]"
      ]
     },
     "execution_count": 30,
     "metadata": {},
     "output_type": "execute_result"
    }
   ],
   "source": [
    "l1"
   ]
  },
  {
   "cell_type": "code",
   "execution_count": 32,
   "id": "97b0f763-9d59-46e3-9eaa-377e88d164a7",
   "metadata": {},
   "outputs": [],
   "source": [
    "def test34(c):\n",
    "    return c+2"
   ]
  },
  {
   "cell_type": "code",
   "execution_count": 35,
   "id": "e42bfebc-2c7a-4d77-b323-4b8e315ba079",
   "metadata": {},
   "outputs": [
    {
     "data": {
      "text/plain": [
       "[3, 4, 5, 6]"
      ]
     },
     "execution_count": 35,
     "metadata": {},
     "output_type": "execute_result"
    }
   ],
   "source": [
    "list(map(test34,l))"
   ]
  },
  {
   "cell_type": "code",
   "execution_count": 36,
   "id": "3bec4b41-f6ec-45fc-996b-4affb6b259ab",
   "metadata": {},
   "outputs": [
    {
     "data": {
      "text/plain": [
       "7"
      ]
     },
     "execution_count": 36,
     "metadata": {},
     "output_type": "execute_result"
    }
   ],
   "source": [
    "test34(5)"
   ]
  },
  {
   "cell_type": "code",
   "execution_count": 37,
   "id": "eebafa1d-5699-4903-8bf4-5e3fbb5e1896",
   "metadata": {},
   "outputs": [
    {
     "data": {
      "text/plain": [
       "10"
      ]
     },
     "execution_count": 37,
     "metadata": {},
     "output_type": "execute_result"
    }
   ],
   "source": [
    "test34(8)"
   ]
  },
  {
   "cell_type": "code",
   "execution_count": 38,
   "id": "c9489713-aca3-413c-b0ec-98174bbea207",
   "metadata": {},
   "outputs": [],
   "source": [
    "l = ['vik','dudd','ererer','werwrr']\n",
    "l1=[]\n",
    "for i in l :\n",
    "    l1.append(len(i))"
   ]
  },
  {
   "cell_type": "code",
   "execution_count": 39,
   "id": "989b751d-00ad-43f1-8a26-5d23b6cd6b37",
   "metadata": {},
   "outputs": [
    {
     "data": {
      "text/plain": [
       "[3, 4, 6, 6]"
      ]
     },
     "execution_count": 39,
     "metadata": {},
     "output_type": "execute_result"
    }
   ],
   "source": [
    "l1"
   ]
  },
  {
   "cell_type": "code",
   "execution_count": 46,
   "id": "c83570ad-804a-4752-b504-733560c762d4",
   "metadata": {},
   "outputs": [],
   "source": [
    "l = ['vik','dudd','ererer','werwrr']\n",
    "def test35(l):\n",
    "    l1 = []\n",
    "    for i in l:\n",
    "        l1.append(len(i))\n",
    "    return l1"
   ]
  },
  {
   "cell_type": "code",
   "execution_count": 47,
   "id": "2e17bee5-4676-4282-b83d-d4ab03e67db9",
   "metadata": {},
   "outputs": [
    {
     "ename": "TypeError",
     "evalue": "object of type 'int' has no len()",
     "output_type": "error",
     "traceback": [
      "\u001b[0;31m---------------------------------------------------------------------------\u001b[0m",
      "\u001b[0;31mTypeError\u001b[0m                                 Traceback (most recent call last)",
      "Cell \u001b[0;32mIn[47], line 1\u001b[0m\n\u001b[0;32m----> 1\u001b[0m \u001b[43mtest35\u001b[49m\u001b[43m(\u001b[49m\u001b[43ml1\u001b[49m\u001b[43m)\u001b[49m\n",
      "Cell \u001b[0;32mIn[46], line 5\u001b[0m, in \u001b[0;36mtest35\u001b[0;34m(l)\u001b[0m\n\u001b[1;32m      3\u001b[0m l1 \u001b[38;5;241m=\u001b[39m []\n\u001b[1;32m      4\u001b[0m \u001b[38;5;28;01mfor\u001b[39;00m i \u001b[38;5;129;01min\u001b[39;00m l:\n\u001b[0;32m----> 5\u001b[0m     l1\u001b[38;5;241m.\u001b[39mappend(\u001b[38;5;28;43mlen\u001b[39;49m\u001b[43m(\u001b[49m\u001b[43mi\u001b[49m\u001b[43m)\u001b[49m)\n\u001b[1;32m      6\u001b[0m \u001b[38;5;28;01mreturn\u001b[39;00m l1\n",
      "\u001b[0;31mTypeError\u001b[0m: object of type 'int' has no len()"
     ]
    }
   ],
   "source": [
    "test35(l1)"
   ]
  },
  {
   "cell_type": "code",
   "execution_count": 48,
   "id": "f1689a30-b75b-4a3a-aff1-5530e01d29c9",
   "metadata": {},
   "outputs": [],
   "source": [
    "l = ['vik', 'dudd', 'ererer', 'werwrr']\n",
    "\n",
    "def test35(l):\n",
    "    l1 = []\n",
    "    for i in l:\n",
    "        l1.append(len(i))\n",
    "    return l1\n"
   ]
  },
  {
   "cell_type": "code",
   "execution_count": 50,
   "id": "e6787e79-3d1c-472b-bb90-5838ff6f6f36",
   "metadata": {},
   "outputs": [
    {
     "data": {
      "text/plain": [
       "[3, 4, 6, 6]"
      ]
     },
     "execution_count": 50,
     "metadata": {},
     "output_type": "execute_result"
    }
   ],
   "source": [
    "test35(l)"
   ]
  },
  {
   "cell_type": "code",
   "execution_count": 7,
   "id": "c83dc574-de84-4b4f-b6b4-fd39f1739a96",
   "metadata": {},
   "outputs": [],
   "source": [
    "l = [2,3,4,5,6,8]\n",
    "from functools import reduce \n",
    "\n"
   ]
  },
  {
   "cell_type": "code",
   "execution_count": 8,
   "id": "e1b31d7a-08ce-4000-8296-324ee68b2e62",
   "metadata": {},
   "outputs": [
    {
     "data": {
      "text/plain": [
       "5760"
      ]
     },
     "execution_count": 8,
     "metadata": {},
     "output_type": "execute_result"
    }
   ],
   "source": [
    "reduce(lambda a,b : a*b ,l)"
   ]
  },
  {
   "cell_type": "code",
   "execution_count": 9,
   "id": "69f7c23a-7296-4afd-bc77-9dfe211f39bd",
   "metadata": {},
   "outputs": [
    {
     "data": {
      "text/plain": [
       "2"
      ]
     },
     "execution_count": 9,
     "metadata": {},
     "output_type": "execute_result"
    }
   ],
   "source": [
    "min(l)"
   ]
  },
  {
   "cell_type": "code",
   "execution_count": 11,
   "id": "8b09b99e-c7c9-453d-9d1d-f8df9cc803ee",
   "metadata": {},
   "outputs": [
    {
     "data": {
      "text/plain": [
       "8"
      ]
     },
     "execution_count": 11,
     "metadata": {},
     "output_type": "execute_result"
    }
   ],
   "source": [
    "max(l)"
   ]
  },
  {
   "cell_type": "code",
   "execution_count": 13,
   "id": "8d06f566-1da6-44a5-86cc-069785125f9c",
   "metadata": {},
   "outputs": [
    {
     "data": {
      "text/plain": [
       "8"
      ]
     },
     "execution_count": 13,
     "metadata": {},
     "output_type": "execute_result"
    }
   ],
   "source": [
    "reduce (lambda a,b : a if a>b else b, l)"
   ]
  },
  {
   "cell_type": "code",
   "execution_count": 14,
   "id": "f9313855-e9cc-4ae7-8505-2fa494fa481c",
   "metadata": {},
   "outputs": [],
   "source": [
    "n= 4\n",
    "fact = reduce (lambda a,b : a*b ,range(1,n+1))"
   ]
  },
  {
   "cell_type": "code",
   "execution_count": 15,
   "id": "8cfaf0c1-f742-4eb4-8f0f-f12b4237f422",
   "metadata": {},
   "outputs": [
    {
     "data": {
      "text/plain": [
       "24"
      ]
     },
     "execution_count": 15,
     "metadata": {},
     "output_type": "execute_result"
    }
   ],
   "source": [
    "fact"
   ]
  },
  {
   "cell_type": "code",
   "execution_count": 17,
   "id": "b372b372-04f7-4836-93fc-6158436c5ef1",
   "metadata": {},
   "outputs": [
    {
     "name": "stdin",
     "output_type": "stream",
     "text": [
      "enter number 12\n"
     ]
    }
   ],
   "source": [
    "n= int(input(\"enter number\"))\n",
    "\n",
    "fact = reduce (lambda a,b : a*b ,range(1,n+1))"
   ]
  },
  {
   "cell_type": "code",
   "execution_count": 18,
   "id": "237a94b3-8cb6-4610-b7ea-0f353a4d92bf",
   "metadata": {},
   "outputs": [
    {
     "data": {
      "text/plain": [
       "479001600"
      ]
     },
     "execution_count": 18,
     "metadata": {},
     "output_type": "execute_result"
    }
   ],
   "source": [
    "fact\n"
   ]
  },
  {
   "cell_type": "code",
   "execution_count": 20,
   "id": "2cb82bae-569a-4f62-a0ee-d299c6205f79",
   "metadata": {},
   "outputs": [
    {
     "name": "stdout",
     "output_type": "stream",
     "text": [
      "3570\n"
     ]
    }
   ],
   "source": [
    "from functools import reduce\n",
    "\n",
    "l = [14, 15, 16, 17, 18]\n",
    "\n",
    "# Use lambda and reduce to calculate the product of odd numbers\n",
    "product = reduce(lambda x, y: x * y if y % 2 != 0 else x, l)\n",
    "\n",
    "print(product)\n"
   ]
  },
  {
   "cell_type": "code",
   "execution_count": 24,
   "id": "3d5a6916-f82d-4ba6-8507-3dae00c18955",
   "metadata": {},
   "outputs": [
    {
     "data": {
      "text/plain": [
       "255"
      ]
     },
     "execution_count": 24,
     "metadata": {},
     "output_type": "execute_result"
    }
   ],
   "source": [
    "reduce(lambda a,b :a*b,[i for i in l if i % 2 != 0])"
   ]
  },
  {
   "cell_type": "code",
   "execution_count": 25,
   "id": "8bd83e95-dec0-4b9f-a5c8-c0d4929b8fb8",
   "metadata": {},
   "outputs": [
    {
     "name": "stdout",
     "output_type": "stream",
     "text": [
      "255\n"
     ]
    }
   ],
   "source": [
    "from functools import reduce\n",
    "\n",
    "l = [14, 15, 16, 17, 18]\n",
    "\n",
    "# Calculate the product of odd numbers using lambda and reduce\n",
    "product = reduce(lambda a, b: a * b, [i for i in l if i % 2 != 0])\n",
    "\n",
    "print(product)\n"
   ]
  },
  {
   "cell_type": "code",
   "execution_count": 26,
   "id": "45619a5d-9e8b-41ce-8ca7-efae4b00b839",
   "metadata": {},
   "outputs": [
    {
     "data": {
      "text/plain": [
       "[14, 16, 18]"
      ]
     },
     "execution_count": 26,
     "metadata": {},
     "output_type": "execute_result"
    }
   ],
   "source": [
    "list(filter(lambda a : a%2==0 , l)) "
   ]
  },
  {
   "cell_type": "code",
   "execution_count": 27,
   "id": "1d140af7-45ca-4dde-8eac-622f1567baf5",
   "metadata": {},
   "outputs": [],
   "source": [
    "s  = \"PW skill\"\n"
   ]
  },
  {
   "cell_type": "code",
   "execution_count": 29,
   "id": "e37dd3ee-60b2-4687-ad32-3e9fa69032d9",
   "metadata": {},
   "outputs": [
    {
     "data": {
      "text/plain": [
       "['s', 'k', 'i', 'l', 'l']"
      ]
     },
     "execution_count": 29,
     "metadata": {},
     "output_type": "execute_result"
    }
   ],
   "source": [
    "list(filter(lambda a : a.islower(),s))"
   ]
  },
  {
   "cell_type": "code",
   "execution_count": 30,
   "id": "08ba63f4-9987-4475-b390-3f6b6639627e",
   "metadata": {},
   "outputs": [],
   "source": [
    "l = ['pw', 'abcd','buuffy','wer']"
   ]
  },
  {
   "cell_type": "code",
   "execution_count": 32,
   "id": "7285b298-a701-4849-af16-7cb6a3aebd84",
   "metadata": {},
   "outputs": [
    {
     "data": {
      "text/plain": [
       "['pw', 'abcd', 'wer']"
      ]
     },
     "execution_count": 32,
     "metadata": {},
     "output_type": "execute_result"
    }
   ],
   "source": [
    "list(filter(lambda a : len(a)<=4 , l))"
   ]
  },
  {
   "cell_type": "code",
   "execution_count": 33,
   "id": "02dcfbf4-0424-4d55-98a9-60eb33e6c15c",
   "metadata": {},
   "outputs": [
    {
     "data": {
      "text/plain": [
       "['pw']"
      ]
     },
     "execution_count": 33,
     "metadata": {},
     "output_type": "execute_result"
    }
   ],
   "source": [
    "list (filter(lambda a : a[0] == 'p' , l   ))"
   ]
  },
  {
   "cell_type": "code",
   "execution_count": null,
   "id": "2f667219-ca47-40e9-be11-7c8c984eb432",
   "metadata": {},
   "outputs": [],
   "source": []
  }
 ],
 "metadata": {
  "kernelspec": {
   "display_name": "Python 3 (ipykernel)",
   "language": "python",
   "name": "python3"
  },
  "language_info": {
   "codemirror_mode": {
    "name": "ipython",
    "version": 3
   },
   "file_extension": ".py",
   "mimetype": "text/x-python",
   "name": "python",
   "nbconvert_exporter": "python",
   "pygments_lexer": "ipython3",
   "version": "3.10.8"
  }
 },
 "nbformat": 4,
 "nbformat_minor": 5
}
